{
 "cells": [
  {
   "cell_type": "code",
   "execution_count": 1,
   "id": "6081ed0c",
   "metadata": {},
   "outputs": [
    {
     "name": "stdout",
     "output_type": "stream",
     "text": [
      "Hello, World!\n"
     ]
    }
   ],
   "source": [
    "from pprint import pprint\n",
    "\n",
    "print('Hello, World!')"
   ]
  },
  {
   "cell_type": "code",
   "execution_count": 2,
   "id": "17b72b27",
   "metadata": {},
   "outputs": [
    {
     "name": "stdout",
     "output_type": "stream",
     "text": [
      "Lumibot version 4.0.3\n",
      "2025-08-28 00:51:19,044 | INFO | \u001b[32m.env file loaded from: /home/balo/projects/hydra-strategy/.env\u001b[0m\n",
      "2025-08-28 00:51:19,048 | INFO | [unknown] Waiting for the socket stream connection to be established, \n",
      "                method _stream_established must be called\n",
      "{'free': {}, 'info': {'holding': []}, 'total': {}, 'used': {}}\n"
     ]
    }
   ],
   "source": [
    "from os import getenv\n",
    "\n",
    "from lumibot.brokers import Ccxt\n",
    "\n",
    "WOOFI_PRO_CONFIG = {\n",
    "    \"exchange_id\": \"woofipro\",\n",
    "    \"api_key\": getenv(\"WOOFIPRO_API_KEY\"),\n",
    "    \"secret\": getenv(\"WOOFIPRO_API_SECRET\"),\n",
    "    \"accountId\": getenv(\"WOOFIPRO_ACCOUNT_ID\"),\n",
    "    \"privateKey\": getenv(\"WALLET_PRIVATE_KEY\"),\n",
    "    \"sandbox\": True if getenv(\"WOOFIPRO_IS_SANDBOX\", \"true\").lower() == \"true\" else False,\n",
    "}\n",
    "\n",
    "broker = Ccxt(WOOFI_PRO_CONFIG)\n",
    "pprint(broker._fetch_balance())"
   ]
  },
  {
   "cell_type": "code",
   "execution_count": null,
   "id": "55330932",
   "metadata": {},
   "outputs": [
    {
     "name": "stdout",
     "output_type": "stream",
     "text": [
      "2025-08-28 03:39:26,989 | ERROR | _strategy.py:update_broker_balances:641 | [HydraStrategy] Error getting broker balances: woofipro not implemented yet.\n",
      "Progress |\u001b[32m\u001b[0m| 100.00%  [Elapsed: 0:03:01 ETA: 0:00:00] Portfolio Val: 2,000,000.00"
     ]
    },
    {
     "name": "stderr",
     "output_type": "stream",
     "text": [
      "/snap/core20/current/lib/x86_64-linux-gnu/libm.so.6: version `GLIBC_2.38' not found (required by /lib64/libduktape.so.207)\n",
      "Failed to load module: /home/balo/snap/code/common/.cache/gio-modules/libgiolibproxy.so\n"
     ]
    },
    {
     "name": "stdout",
     "output_type": "stream",
     "text": [
      "Opening in existing browser session.\n"
     ]
    },
    {
     "data": {
      "text/plain": [
       "{'cagr': np.float64(0.0),\n",
       " 'volatility': np.float64(0.0),\n",
       " 'sharpe': 0,\n",
       " 'max_drawdown': {'drawdown': np.float64(0.0),\n",
       "  'date': Timestamp('2025-08-21 03:51:00-0400', tz='America/New_York')},\n",
       " 'romad': 0,\n",
       " 'total_return': np.float64(0.0)}"
      ]
     },
     "execution_count": 46,
     "metadata": {},
     "output_type": "execute_result"
    },
    {
     "name": "stderr",
     "output_type": "stream",
     "text": [
      "/snap/core20/current/lib/x86_64-linux-gnu/libm.so.6: version `GLIBC_2.38' not found (required by /lib64/libduktape.so.207)\n",
      "Failed to load module: /home/balo/snap/code/common/.cache/gio-modules/libgiolibproxy.so\n"
     ]
    },
    {
     "name": "stdout",
     "output_type": "stream",
     "text": [
      "Opening in existing browser session.\n"
     ]
    }
   ],
   "source": [
    "from datetime import datetime\n",
    "import requests\n",
    "\n",
    "import ta\n",
    "import pandas as pd\n",
    "\n",
    "from lumibot.strategies import Strategy\n",
    "from lumibot.traders import Trader\n",
    "from lumibot.backtesting import PandasDataBacktesting\n",
    "from lumibot.entities import Asset, Bars, Data\n",
    "\n",
    "base_asset = 'ETH'\n",
    "quote_asset = 'USDC'\n",
    "resolution = '5'  # 5 minute\n",
    "\n",
    "class HydraStrategy(Strategy):\n",
    "    parameters = {\n",
    "        'fast_ema_period': 50,\n",
    "        'slow_ema_period': 20,\n",
    "    }\n",
    "\n",
    "    def initialize(self):\n",
    "        self.set_market('24/7')\n",
    "\n",
    "    def on_trading_iteration(self):\n",
    "        base = Asset(base_asset, Asset.AssetType.CRYPTO)\n",
    "        quote = Asset(quote_asset, Asset.AssetType.CRYPTO)\n",
    "\n",
    "        bars: Bars = self.get_historical_prices(\n",
    "            asset=base,\n",
    "            quote=quote,\n",
    "            timestep='5 minutes',\n",
    "            length=100,\n",
    "            timeshift=100 if self.first_iteration else 0\n",
    "        )\n",
    "        # print(bars.df)\n",
    "        # raise Exception(\"Stopping after one iteration for demonstration purposes.\")\n",
    "        fast_ema = ta.trend.EMAIndicator(bars.df['close'], self.parameters[\"fast_ema_period\"])\n",
    "        slow_ema = ta.trend.EMAIndicator(bars.df['close'], self.parameters[\"slow_ema_period\"])\n",
    "        # print(f\"Fast EMA: {fast_ema.ema_indicator()}\")\n",
    "        # raise Exception(\"Stopping after one iteration for demonstration purposes.\")\n",
    "\n",
    "        if fast_ema.ema_indicator().iloc[-1] > slow_ema.ema_indicator().iloc[-1]:\n",
    "            if not self.get_position(base):\n",
    "                self.create_order(\n",
    "                    asset=base,\n",
    "                    quote=quote,\n",
    "                    quantity=10,\n",
    "                    side='buy'\n",
    "                )\n",
    "        elif fast_ema.ema_indicator().iloc[-1] < slow_ema.ema_indicator().iloc[-1]:\n",
    "            if self.get_position(base):\n",
    "                self.create_order(\n",
    "                    asset=base,\n",
    "                    quote=quote,\n",
    "                    quantity=10,\n",
    "                    side='sell'\n",
    "                )\n",
    "\n",
    "\n",
    "strategy = HydraStrategy(broker=broker)\n",
    "\n",
    "backtesting_start = datetime(2025, 8, 1)\n",
    "backtesting_end = datetime(2025, 8, 27)\n",
    "\n",
    "url = \"https://api.orderly.org/v1/tv/history\"\n",
    "querystring = {\n",
    "    \"symbol\": f\"PERP_{base_asset}_{quote_asset}\",\n",
    "    \"resolution\": resolution,\n",
    "    \"from\": str(int(backtesting_start.timestamp())),\n",
    "    \"to\": str(int(backtesting_end.timestamp())),\n",
    "}\n",
    "response = requests.get(url, params=querystring)\n",
    "data = response.json()\n",
    "df = pd.DataFrame({\n",
    "    'datetime': data.get('t', []),\n",
    "    'open': data.get('o', []),\n",
    "    'high': data.get('h', []),\n",
    "    'low': data.get('l', []),\n",
    "    'close': data.get('c', []),\n",
    "    'volume': data.get('v', [])\n",
    "})\n",
    "df['datetime'] = pd.to_datetime(df['datetime'], unit='s')\n",
    "df.set_index('datetime', inplace=True)\n",
    "asset = Asset(base_asset, Asset.AssetType.CRYPTO)\n",
    "quote = Asset(quote_asset, Asset.AssetType.CRYPTO)\n",
    "pandas_data = {\n",
    "    asset: Data(\n",
    "        asset,\n",
    "        df,\n",
    "        timestep='minute',\n",
    "        quote=quote,\n",
    "    )\n",
    "}\n",
    "# print(df)\n",
    "\n",
    "strategy.backtest(\n",
    "    PandasDataBacktesting,\n",
    "    backtesting_start=pandas_data[asset].datetime_start,\n",
    "    backtesting_end=pandas_data[asset].datetime_end,\n",
    "    budget=2000,\n",
    "    pandas_data=pandas_data,\n",
    "    benchmark_asset=asset,\n",
    "    quote_asset=quote,\n",
    ")"
   ]
  },
  {
   "cell_type": "code",
   "execution_count": 6,
   "id": "24fe7957",
   "metadata": {},
   "outputs": [
    {
     "name": "stdout",
     "output_type": "stream",
     "text": [
      "1756162800.0\n"
     ]
    }
   ],
   "source": [
    "print(datetime(2025, 8, 26).timestamp())"
   ]
  }
 ],
 "metadata": {
  "kernelspec": {
   "display_name": "hydra-strategy-Ef65KzsX-py3.12",
   "language": "python",
   "name": "python3"
  },
  "language_info": {
   "codemirror_mode": {
    "name": "ipython",
    "version": 3
   },
   "file_extension": ".py",
   "mimetype": "text/x-python",
   "name": "python",
   "nbconvert_exporter": "python",
   "pygments_lexer": "ipython3",
   "version": "3.12.10"
  }
 },
 "nbformat": 4,
 "nbformat_minor": 5
}
