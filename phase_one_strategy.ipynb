{
 "cells": [
  {
   "cell_type": "code",
   "execution_count": 1,
   "id": "6081ed0c",
   "metadata": {},
   "outputs": [
    {
     "name": "stdout",
     "output_type": "stream",
     "text": [
      "Hello, World!\n"
     ]
    }
   ],
   "source": [
    "from pprint import pprint\n",
    "\n",
    "print('Hello, World!')"
   ]
  },
  {
   "cell_type": "code",
   "execution_count": null,
   "id": "55330932",
   "metadata": {},
   "outputs": [
    {
     "name": "stdout",
     "output_type": "stream",
     "text": [
      "                              open     high      low    close    volume\n",
      "datetime                                                               \n",
      "2025-08-29 22:40:00-04:00  4354.16  4355.00  4349.58  4351.06   72.2179\n",
      "2025-08-29 22:45:00-04:00  4350.73  4354.92  4348.42  4349.64   33.8783\n",
      "2025-08-29 22:50:00-04:00  4348.82  4358.95  4348.81  4358.01  145.5938\n",
      "2025-08-29 22:55:00-04:00  4357.44  4366.55  4354.85  4366.55  201.2567\n",
      "2025-08-29 23:00:00-04:00  4366.36  4370.55  4362.38  4362.38  188.2721\n",
      "Progress |\u001b[32m\u001b[0m| 100.00%  [Elapsed: 0:00:44 ETA: 0:00:00] Portfolio Val: 2,009,246.00"
     ]
    },
    {
     "name": "stderr",
     "output_type": "stream",
     "text": [
      "/snap/core20/current/lib/x86_64-linux-gnu/libm.so.6: version `GLIBC_2.38' not found (required by /lib64/libduktape.so.207)\n",
      "Failed to load module: /home/balo/snap/code/common/.cache/gio-modules/libgiolibproxy.so\n"
     ]
    },
    {
     "name": "stdout",
     "output_type": "stream",
     "text": [
      "Opening in existing browser session.\n"
     ]
    },
    {
     "name": "stderr",
     "output_type": "stream",
     "text": [
      "[6994:6994:0100/000000.690579:ERROR:content/zygote/zygote_linux.cc:660] write: Broken pipe (32)\n"
     ]
    },
    {
     "data": {
      "text/plain": [
       "{'cagr': np.float64(5.339345576634073),\n",
       " 'volatility': np.float64(0.09776251278472002),\n",
       " 'sharpe': np.float64(54.20191670083334),\n",
       " 'max_drawdown': {'drawdown': np.float64(0.002039328700624316),\n",
       "  'date': Timestamp('2025-08-29 16:00:00-0400', tz='America/New_York')},\n",
       " 'romad': np.float64(2618.1878257288768),\n",
       " 'total_return': np.float64(0.005068999999999768)}"
      ]
     },
     "execution_count": 4,
     "metadata": {},
     "output_type": "execute_result"
    },
    {
     "name": "stderr",
     "output_type": "stream",
     "text": [
      "/snap/core20/current/lib/x86_64-linux-gnu/libm.so.6: version `GLIBC_2.38' not found (required by /lib64/libduktape.so.207)\n",
      "Failed to load module: /home/balo/snap/code/common/.cache/gio-modules/libgiolibproxy.so\n"
     ]
    },
    {
     "name": "stdout",
     "output_type": "stream",
     "text": [
      "Opening in existing browser session.\n"
     ]
    }
   ],
   "source": [
    "from datetime import datetime\n",
    "import requests\n",
    "\n",
    "import ta\n",
    "import pandas as pd\n",
    "\n",
    "from lumibot.strategies import Strategy\n",
    "from lumibot.backtesting import PandasDataBacktesting\n",
    "from lumibot.entities import Asset, Bars, Data\n",
    "\n",
    "base_asset = 'ETH'\n",
    "quote_asset = 'USDC'\n",
    "resolution = '5'  # 5 minute\n",
    "\n",
    "class HydraStrategy(Strategy):\n",
    "    parameters = {\n",
    "        'fast_ema_period': 5,\n",
    "        'slow_ema_period': 20,\n",
    "    }\n",
    "\n",
    "    def initialize(self):\n",
    "        self.set_market('24/7')\n",
    "\n",
    "    def on_trading_iteration(self):\n",
    "        self.base = Asset(base_asset, Asset.AssetType.CRYPTO)\n",
    "        self.quote = Asset(quote_asset, Asset.AssetType.CRYPTO)\n",
    "        # print(f'Portfolio value: {self.portfolio_value}')\n",
    "\n",
    "        # If cash exceeds initial budget by more than 10%, log a warning that target has been reached\n",
    "        if self.cash >= self.initial_budget + (self.initial_budget * 0.1):\n",
    "            print(f\"Porfolio value {self.cash} exceeds initial budget {self.initial_budget} by more than 10%.\")\n",
    "            self.close_positions([self.base])\n",
    "            raise Exception(\"Target reached, stopping strategy.\")\n",
    "        elif self.cash <= self.initial_budget - (self.initial_budget * 0.5):\n",
    "            print(f\"Porfolio value {self.cash} below initial budget {self.initial_budget} by more than 10%.\")\n",
    "            self.close_positions([self.base])\n",
    "            raise Exception(\"Stop loss reached, stopping strategy.\")\n",
    "        else:\n",
    "            bars: Bars = self.get_historical_prices(\n",
    "                asset=self.base,\n",
    "                quote=self.quote,\n",
    "                timestep='5 minutes',\n",
    "                length=100,\n",
    "                timeshift=100 if self.first_iteration else 0\n",
    "            )\n",
    "            # print(bars.df)\n",
    "            # raise Exception(\"Stopping after one iteration for demonstration purposes.\")\n",
    "            fast_ema = ta.trend.EMAIndicator(bars.df['close'], self.parameters[\"fast_ema_period\"])\n",
    "            slow_ema = ta.trend.EMAIndicator(bars.df['close'], self.parameters[\"slow_ema_period\"])\n",
    "            # print(f\"Fast EMA: {fast_ema.ema_indicator()}\")\n",
    "            # raise Exception(\"Stopping after one iteration for demonstration purposes.\")\n",
    "\n",
    "            if fast_ema.ema_indicator().iloc[-1] > slow_ema.ema_indicator().iloc[-1]:\n",
    "                # print(\"Golden cross detected!\")\n",
    "                if not self.get_position(self.base):\n",
    "                    # print(\"Placing buy order!\")\n",
    "                    order = self.create_order(\n",
    "                        asset=self.base,\n",
    "                        quote=self.quote,\n",
    "                        quantity=100,\n",
    "                        side='buy'\n",
    "                    )\n",
    "                    self.submit_order(order)\n",
    "                    if not self.is_backtesting: self.wait_for_order_execution(order)\n",
    "            elif fast_ema.ema_indicator().iloc[-1] < slow_ema.ema_indicator().iloc[-1]:\n",
    "                # print(\"Death cross detected!\")\n",
    "                if self.get_position(self.base):\n",
    "                    # print(\"Placing sell order!\")\n",
    "                    order = self.create_order(\n",
    "                        asset=self.base,\n",
    "                        quote=self.quote,\n",
    "                        quantity=100,\n",
    "                        side='sell'\n",
    "                    )\n",
    "                    self.submit_order(order)\n",
    "                    if not self.is_backtesting: self.wait_for_order_execution(order)\n",
    "\n",
    "\n",
    "strategy = HydraStrategy()\n",
    "\n",
    "backtesting_start = datetime(2025, 8, 29)\n",
    "backtesting_end = datetime(2025, 8, 30)\n",
    "\n",
    "url = \"https://api.orderly.org/v1/tv/history\"\n",
    "querystring = {\n",
    "    \"symbol\": f\"PERP_{base_asset}_{quote_asset}\",\n",
    "    \"resolution\": resolution,\n",
    "    \"from\": str(int(backtesting_start.timestamp())),\n",
    "    \"to\": str(int(backtesting_end.timestamp())),\n",
    "}\n",
    "response = requests.get(url, params=querystring)\n",
    "data = response.json()\n",
    "df = pd.DataFrame({\n",
    "    'datetime': data.get('t', []),\n",
    "    'open': data.get('o', []),\n",
    "    'high': data.get('h', []),\n",
    "    'low': data.get('l', []),\n",
    "    'close': data.get('c', []),\n",
    "    'volume': data.get('v', [])\n",
    "})\n",
    "df['datetime'] = pd.to_datetime(df['datetime'], unit='s')\n",
    "df.set_index('datetime', inplace=True)\n",
    "asset = Asset(base_asset, Asset.AssetType.CRYPTO)\n",
    "quote = Asset(quote_asset, Asset.AssetType.CRYPTO)\n",
    "pandas_data = {\n",
    "    asset: Data(\n",
    "        asset,\n",
    "        df,\n",
    "        timestep='minute',\n",
    "        quote=quote,\n",
    "    )\n",
    "}\n",
    "# print(df.tail())\n",
    "\n",
    "strategy.backtest(\n",
    "    PandasDataBacktesting,\n",
    "    backtesting_start=pandas_data[asset].datetime_start,\n",
    "    backtesting_end=pandas_data[asset].datetime_end,\n",
    "    budget=2000000,\n",
    "    pandas_data=pandas_data,\n",
    "    benchmark_asset=asset,\n",
    "    quote_asset=quote,\n",
    ")"
   ]
  },
  {
   "cell_type": "code",
   "execution_count": null,
   "id": "24fe7957",
   "metadata": {},
   "outputs": [
    {
     "name": "stdout",
     "output_type": "stream",
     "text": [
      "1756162800.0\n"
     ]
    },
    {
     "name": "stderr",
     "output_type": "stream",
     "text": [
      "/snap/core20/current/lib/x86_64-linux-gnu/libm.so.6: version `GLIBC_2.38' not found (required by /lib64/libduktape.so.207)\n",
      "Failed to load module: /home/balo/snap/code/common/.cache/gio-modules/libgiolibproxy.so\n"
     ]
    },
    {
     "name": "stdout",
     "output_type": "stream",
     "text": [
      "Opening in existing browser session.\n"
     ]
    }
   ],
   "source": [
    "print(datetime(2025, 8, 26).timestamp())"
   ]
  }
 ],
 "metadata": {
  "kernelspec": {
   "display_name": "hydra-strategy-Ef65KzsX-py3.12",
   "language": "python",
   "name": "python3"
  },
  "language_info": {
   "codemirror_mode": {
    "name": "ipython",
    "version": 3
   },
   "file_extension": ".py",
   "mimetype": "text/x-python",
   "name": "python",
   "nbconvert_exporter": "python",
   "pygments_lexer": "ipython3",
   "version": "3.12.10"
  }
 },
 "nbformat": 4,
 "nbformat_minor": 5
}
