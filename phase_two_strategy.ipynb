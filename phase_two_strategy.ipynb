{
 "cells": [
  {
   "cell_type": "code",
   "execution_count": 1,
   "id": "6081ed0c",
   "metadata": {},
   "outputs": [
    {
     "name": "stdout",
     "output_type": "stream",
     "text": [
      "Hello, World!\n"
     ]
    }
   ],
   "source": [
    "from pprint import pprint\n",
    "\n",
    "print('Hello, World!')"
   ]
  },
  {
   "cell_type": "code",
   "execution_count": 2,
   "id": "55330932",
   "metadata": {},
   "outputs": [
    {
     "name": "stdout",
     "output_type": "stream",
     "text": [
      "Lumibot version 4.0.3\n",
      "2025-08-30 09:36:47,587 | INFO | \u001b[32m.env file loaded from: /home/balo/projects/hydra-strategy/.env\u001b[0m\n",
      "2025-08-30 09:36:47,591 | INFO | [unknown] Waiting for the socket stream connection to be established, \n",
      "                method _stream_established must be called\n",
      "2025-08-30 09:36:50,665 | INFO | [HydraStrategy] Starting backtest...\n",
      "2025-08-30 09:36:50,667 | INFO | Backtesting starting...\n",
      "Progress |\u001b[32m\u001b[0m| 100.00%  [Elapsed: 0:05:20 ETA: 0:00:00] Portfolio Val: 2,090,808.00"
     ]
    },
    {
     "name": "stderr",
     "output_type": "stream",
     "text": [
      "/snap/core20/current/lib/x86_64-linux-gnu/libm.so.6: version `GLIBC_2.38' not found (required by /lib64/libduktape.so.207)\n",
      "Failed to load module: /home/balo/snap/code/common/.cache/gio-modules/libgiolibproxy.so\n"
     ]
    },
    {
     "name": "stdout",
     "output_type": "stream",
     "text": [
      "Opening in existing browser session.\n"
     ]
    },
    {
     "name": "stderr",
     "output_type": "stream",
     "text": [
      "[8208:8208:0100/000000.331269:ERROR:content/zygote/zygote_linux.cc:660] write: Broken pipe (32)\n"
     ]
    },
    {
     "data": {
      "text/plain": [
       "{'cagr': np.float64(14.317919052370318),\n",
       " 'volatility': np.float64(0.11200983189219099),\n",
       " 'sharpe': np.float64(127.46639119947808),\n",
       " 'max_drawdown': {'drawdown': np.float64(0.004179440150543209),\n",
       "  'date': Timestamp('2025-08-26 13:50:00-0400', tz='America/New_York')},\n",
       " 'romad': np.float64(3425.798321459249),\n",
       " 'total_return': np.float64(0.04585000000000239)}"
      ]
     },
     "execution_count": 2,
     "metadata": {},
     "output_type": "execute_result"
    }
   ],
   "source": [
    "from datetime import datetime\n",
    "import requests\n",
    "\n",
    "import ta\n",
    "import pandas as pd\n",
    "\n",
    "from lumibot.strategies import Strategy\n",
    "from lumibot.backtesting import PandasDataBacktesting\n",
    "from lumibot.entities import Asset, Bars, Data\n",
    "\n",
    "base_asset = 'ETH'\n",
    "quote_asset = 'USDC'\n",
    "resolution = '5'  # 5 minute\n",
    "\n",
    "class HydraStrategy(Strategy):\n",
    "    parameters = {\n",
    "        'fast_ema_period': 5,\n",
    "        'slow_ema_period': 20,\n",
    "        \"rsi_period\": 14,\n",
    "        \"rsi_overbought\": 70,\n",
    "        \"rsi_oversold\": 30,\n",
    "    }\n",
    "\n",
    "    def initialize(self):\n",
    "        self.set_market('24/7')\n",
    "\n",
    "    def on_trading_iteration(self):\n",
    "        self.base = Asset(base_asset, Asset.AssetType.CRYPTO)\n",
    "        self.quote = Asset(quote_asset, Asset.AssetType.CRYPTO)\n",
    "        # print(f'Portfolio value: {self.portfolio_value}')\n",
    "\n",
    "        # If cash exceeds initial budget by more than 10%, log a warning that target has been reached\n",
    "        if self.cash >= self.initial_budget + (self.initial_budget * 0.1):\n",
    "            print(f\"Porfolio value {self.cash} exceeds initial budget {self.initial_budget} by more than 10%.\")\n",
    "            self.close_positions([self.base])\n",
    "            raise Exception(\"Target reached, stopping strategy.\")\n",
    "        elif self.cash <= self.initial_budget - (self.initial_budget * 0.5):\n",
    "            print(f\"Porfolio value {self.cash} below initial budget {self.initial_budget} by more than 10%.\")\n",
    "            self.close_positions([self.base])\n",
    "            raise Exception(\"Stop loss reached, stopping strategy.\")\n",
    "        else:\n",
    "            bars: Bars = self.get_historical_prices(\n",
    "                asset=self.base,\n",
    "                quote=self.quote,\n",
    "                timestep='5 minutes',\n",
    "                length=100,\n",
    "                timeshift=100 if self.first_iteration else 0\n",
    "            )\n",
    "            # print(bars.df)\n",
    "            # raise Exception(\"Stopping after one iteration for demonstration purposes.\")\n",
    "            fast_ema = ta.trend.EMAIndicator(bars.df['close'], self.parameters[\"fast_ema_period\"])\n",
    "            slow_ema = ta.trend.EMAIndicator(bars.df['close'], self.parameters[\"slow_ema_period\"])\n",
    "            rsi = ta.momentum.RSIIndicator(bars.df['close'], self.parameters[\"rsi_period\"])\n",
    "\n",
    "            if (\n",
    "                (fast_ema.ema_indicator().iloc[-1] > slow_ema.ema_indicator().iloc[-1])\n",
    "                and\n",
    "                (self.parameters[\"rsi_oversold\"] < rsi.rsi().iloc[-1] < self.parameters[\"rsi_overbought\"])\n",
    "                ):\n",
    "                # print(\"Golden cross detected!\")\n",
    "                if not self.get_position(self.base):\n",
    "                    # print(\"Placing buy order!\")\n",
    "                    order = self.create_order(\n",
    "                        asset=self.base,\n",
    "                        quote=self.quote,\n",
    "                        quantity=100,\n",
    "                        side='buy'\n",
    "                    )\n",
    "                    self.submit_order(order)\n",
    "                    if not self.is_backtesting: self.wait_for_order_execution(order)\n",
    "            elif (\n",
    "                (fast_ema.ema_indicator().iloc[-1] < slow_ema.ema_indicator().iloc[-1])\n",
    "                and\n",
    "                (self.parameters[\"rsi_oversold\"] < rsi.rsi().iloc[-1] < self.parameters[\"rsi_overbought\"])\n",
    "                ):\n",
    "                # print(\"Death cross detected!\")\n",
    "                if self.get_position(self.base):\n",
    "                    # print(\"Placing sell order!\")\n",
    "                    order = self.create_order(\n",
    "                        asset=self.base,\n",
    "                        quote=self.quote,\n",
    "                        quantity=100,\n",
    "                        side='sell'\n",
    "                    )\n",
    "                    self.submit_order(order)\n",
    "                    if not self.is_backtesting: self.wait_for_order_execution(order)\n",
    "\n",
    "\n",
    "strategy = HydraStrategy()\n",
    "\n",
    "backtesting_start = datetime(2025, 8, 23)\n",
    "backtesting_end = datetime(2025, 8, 30)\n",
    "\n",
    "url = \"https://api.orderly.org/v1/tv/history\"\n",
    "querystring = {\n",
    "    \"symbol\": f\"PERP_{base_asset}_{quote_asset}\",\n",
    "    \"resolution\": resolution,\n",
    "    \"from\": str(int(backtesting_start.timestamp())),\n",
    "    \"to\": str(int(backtesting_end.timestamp())),\n",
    "}\n",
    "response = requests.get(url, params=querystring)\n",
    "data = response.json()\n",
    "df = pd.DataFrame({\n",
    "    'datetime': data.get('t', []),\n",
    "    'open': data.get('o', []),\n",
    "    'high': data.get('h', []),\n",
    "    'low': data.get('l', []),\n",
    "    'close': data.get('c', []),\n",
    "    'volume': data.get('v', [])\n",
    "})\n",
    "df['datetime'] = pd.to_datetime(df['datetime'], unit='s')\n",
    "df.set_index('datetime', inplace=True)\n",
    "asset = Asset(base_asset, Asset.AssetType.CRYPTO)\n",
    "quote = Asset(quote_asset, Asset.AssetType.CRYPTO)\n",
    "pandas_data = {\n",
    "    asset: Data(\n",
    "        asset,\n",
    "        df,\n",
    "        timestep='minute',\n",
    "        quote=quote,\n",
    "    )\n",
    "}\n",
    "# print(df.tail())\n",
    "\n",
    "strategy.backtest(\n",
    "    PandasDataBacktesting,\n",
    "    backtesting_start=pandas_data[asset].datetime_start,\n",
    "    backtesting_end=pandas_data[asset].datetime_end,\n",
    "    budget=2000000,\n",
    "    pandas_data=pandas_data,\n",
    "    benchmark_asset=asset,\n",
    "    quote_asset=quote,\n",
    ")"
   ]
  },
  {
   "cell_type": "code",
   "execution_count": 3,
   "id": "24fe7957",
   "metadata": {},
   "outputs": [
    {
     "name": "stdout",
     "output_type": "stream",
     "text": [
      "1756162800.0\n"
     ]
    },
    {
     "name": "stderr",
     "output_type": "stream",
     "text": [
      "/snap/core20/current/lib/x86_64-linux-gnu/libm.so.6: version `GLIBC_2.38' not found (required by /lib64/libduktape.so.207)\n",
      "Failed to load module: /home/balo/snap/code/common/.cache/gio-modules/libgiolibproxy.so\n"
     ]
    },
    {
     "name": "stdout",
     "output_type": "stream",
     "text": [
      "Opening in existing browser session.\n"
     ]
    }
   ],
   "source": [
    "print(datetime(2025, 8, 26).timestamp())"
   ]
  }
 ],
 "metadata": {
  "kernelspec": {
   "display_name": "hydra-strategy-Ef65KzsX-py3.12",
   "language": "python",
   "name": "python3"
  },
  "language_info": {
   "codemirror_mode": {
    "name": "ipython",
    "version": 3
   },
   "file_extension": ".py",
   "mimetype": "text/x-python",
   "name": "python",
   "nbconvert_exporter": "python",
   "pygments_lexer": "ipython3",
   "version": "3.12.10"
  }
 },
 "nbformat": 4,
 "nbformat_minor": 5
}
