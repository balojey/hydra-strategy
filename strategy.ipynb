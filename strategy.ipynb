{
 "cells": [
  {
   "cell_type": "code",
   "execution_count": 1,
   "id": "6081ed0c",
   "metadata": {},
   "outputs": [
    {
     "name": "stdout",
     "output_type": "stream",
     "text": [
      "Hello, World!\n"
     ]
    }
   ],
   "source": [
    "print('Hello, World!')"
   ]
  },
  {
   "cell_type": "code",
   "execution_count": 2,
   "id": "7c7dbab4",
   "metadata": {},
   "outputs": [
    {
     "name": "stdout",
     "output_type": "stream",
     "text": [
      "Lumibot version 4.0.3\n",
      "2025-08-26 11:48:56,501 | INFO | \u001b[32m.env file loaded from: /home/balo/projects/hydra-strategy/.env\u001b[0m\n",
      "2025-08-26 11:48:56,505 | INFO | [unknown] Waiting for the socket stream connection to be established, \n",
      "                method _stream_established must be called\n",
      "2025-08-26 11:48:56,837 | INFO | [unknown] Waiting for the socket stream connection to be established, \n",
      "                method _stream_established must be called\n"
     ]
    }
   ],
   "source": [
    "# Setup broker\n",
    "from os import getenv\n",
    "\n",
    "from lumibot.brokers import Alpaca\n",
    "\n",
    "\n",
    "ALPACA_CONFIG = {\n",
    "    'API_KEY': getenv('ALPACA_API_KEY'),\n",
    "    'API_SECRET': getenv('ALPACA_API_SECRET'),\n",
    "    \"PAPER\": True if getenv('ALPACA_IS_PAPER', 'true').lower() == 'true' else False,\n",
    "}\n",
    "\n",
    "broker = Alpaca(ALPACA_CONFIG)"
   ]
  },
  {
   "cell_type": "code",
   "execution_count": 3,
   "id": "5d7b1d1d",
   "metadata": {},
   "outputs": [
    {
     "name": "stdout",
     "output_type": "stream",
     "text": [
      "2025-08-26 11:50:30,907 | INFO | [MyStrategy] \u001b[32mStrategy MyStrategy is initializing\u001b[0m\n",
      "2025-08-26 11:50:30,909 | INFO | [MyStrategy] Executing the initialize lifecycle method\n",
      "2025-08-26 11:50:34,790 | INFO | [MyStrategy] Sleeping until the market opens\n",
      "2025-08-26 11:50:35,702 | INFO | [MyStrategy] Executing the before_market_opens lifecycle method\n",
      "2025-08-26 11:50:36,838 | INFO | [MyStrategy] Sleeping until the market opens\n",
      "2025-08-26 11:50:36,840 | INFO | [MyStrategy] Executing the on_abrupt_closing event method\n",
      "2025-08-26 11:50:36,844 | INFO | Trading finished for MyStrategy\n",
      "2025-08-26 11:50:37,453 | INFO | [MyStrategy] \u001b[34mStrategy will check in again at: 2025-08-26 11:51:00 AM WAT\u001b[0m\n",
      "2025-08-26 11:50:37,455 | ERROR | strategy_executor.py:run:1405 | [MyStrategy] 'Alpaca' object has no attribute 'process_pending_orders'\n",
      "2025-08-26 11:50:37,473 | ERROR | strategy_executor.py:run:1406 | [MyStrategy] Traceback (most recent call last):\n",
      "  File \"/home/balo/.cache/pypoetry/virtualenvs/hydra-strategy-Ef65KzsX-py3.12/lib/python3.12/site-packages/lumibot/strategies/strategy_executor.py\", line 1401, in run\n",
      "    self._run_trading_session()\n",
      "  File \"/home/balo/.cache/pypoetry/virtualenvs/hydra-strategy-Ef65KzsX-py3.12/lib/python3.12/site-packages/lumibot/strategies/strategy_executor.py\", line 1352, in _run_trading_session\n",
      "    self.strategy.await_market_to_close()\n",
      "  File \"/home/balo/.cache/pypoetry/virtualenvs/hydra-strategy-Ef65KzsX-py3.12/lib/python3.12/site-packages/lumibot/strategies/strategy.py\", line 1058, in await_market_to_close\n",
      "    return self.broker._await_market_to_close(timedelta, strategy=self)\n",
      "           ^^^^^^^^^^^^^^^^^^^^^^^^^^^^^^^^^^^^^^^^^^^^^^^^^^^^^^^^^^^^\n",
      "  File \"/home/balo/.cache/pypoetry/virtualenvs/hydra-strategy-Ef65KzsX-py3.12/lib/python3.12/site-packages/lumibot/brokers/alpaca.py\", line 345, in _await_market_to_close\n",
      "    self.process_pending_orders(strategy=strategy)\n",
      "    ^^^^^^^^^^^^^^^^^^^^^^^^^^^\n",
      "AttributeError: 'Alpaca' object has no attribute 'process_pending_orders'\n"
     ]
    },
    {
     "data": {
      "text/plain": [
       "{'MyStrategy': {}}"
      ]
     },
     "execution_count": 3,
     "metadata": {},
     "output_type": "execute_result"
    }
   ],
   "source": [
    "from lumibot.strategies import Strategy\n",
    "from lumibot.traders import Trader\n",
    "from lumibot.entities import Asset\n",
    "\n",
    "\n",
    "class MyStrategy(Strategy):\n",
    "    def on_trading_iteration(self):\n",
    "        if self.first_iteration:\n",
    "            # Buy 100 shares of SPY\n",
    "            order = self.create_order(\n",
    "                Asset(symbol=\"SPY\", asset_type=\"stock\"),\n",
    "                quantity=100,\n",
    "                side=\"buy\"\n",
    "            )\n",
    "            self.submit_order(order)\n",
    "\n",
    "\n",
    "strategy = MyStrategy(broker=broker)\n",
    "trader = Trader()\n",
    "trader.add_strategy(strategy)\n",
    "trader.run_all()"
   ]
  }
 ],
 "metadata": {
  "kernelspec": {
   "display_name": "hydra-strategy-Ef65KzsX-py3.12",
   "language": "python",
   "name": "python3"
  },
  "language_info": {
   "codemirror_mode": {
    "name": "ipython",
    "version": 3
   },
   "file_extension": ".py",
   "mimetype": "text/x-python",
   "name": "python",
   "nbconvert_exporter": "python",
   "pygments_lexer": "ipython3",
   "version": "3.12.10"
  }
 },
 "nbformat": 4,
 "nbformat_minor": 5
}
